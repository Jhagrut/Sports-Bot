{
 "cells": [
  {
   "cell_type": "code",
   "execution_count": 3,
   "id": "fd4eeca6",
   "metadata": {},
   "outputs": [],
   "source": [
    "from cleaning_tools import *\n",
    "from scraping_tools import *\n",
    "import pandas as pd\n",
    "from joblib import load, dump"
   ]
  },
  {
   "cell_type": "code",
   "execution_count": 2,
   "id": "cc483711",
   "metadata": {},
   "outputs": [],
   "source": [
    "#download_files()\n",
    "get_data_to_label()"
   ]
  },
  {
   "cell_type": "code",
   "execution_count": null,
   "id": "6eb3818d",
   "metadata": {},
   "outputs": [],
   "source": [
    "data = pd.read_csv('filtered.csv')\n",
    "samples = pd.read_csv('sampled.csv')\n",
    "\n",
    "for i in range(len(samples)):\n",
    "    data.at[samples['Unnamed: 0'][i], 'injury_report'] = samples['injury_report'][i]\n",
    "    \n",
    "positive_samples = pd.read_csv('positive_samples.csv')\n",
    "\n",
    "for i in range(len(samples)):\n",
    "    data.at[positive_samples['Unnamed: 0'][i], 'injury_report'] = positive_samples['injury_report'][i]\n",
    "    \n",
    "data.to_csv('filtered.csv', index=False)\n",
    "\n",
    "filtered_to_clean()"
   ]
  },
  {
   "cell_type": "code",
   "execution_count": null,
   "id": "3c4abf4f",
   "metadata": {},
   "outputs": [],
   "source": [
    "lgr = load('Classical Models//logistic_regression.joblib')\n",
    "bNB = load('Classical Models//bernoulliNB.joblib')\n",
    "v_tfidf = load('Classical Models //tfidf.joblib')\n",
    "v_bool = load('Classical Models//bool.joblib')"
   ]
  },
  {
   "cell_type": "code",
   "execution_count": null,
   "id": "181eda87",
   "metadata": {},
   "outputs": [],
   "source": [
    "data = pd.read_csv('clean.csv')\n",
    "data.dropna(inplace=True)\n",
    "data['boolNB_predictions'] = bNB.predict(v_bool.transform(data['clean']))\n",
    "data['lgr_predictions'] = lgr.predict(v_tfidf.transform(data['clean']))\n",
    "fn_lgr = data[(data['injury_report'] == 1) & (data['lgr_predictions'] == 0)]\n",
    "fp_lgr = data[(data['injury_report'] == 0) & (data['lgr_predictions'] == 1)]"
   ]
  },
  {
   "cell_type": "code",
   "execution_count": null,
   "id": "a96029d4",
   "metadata": {},
   "outputs": [],
   "source": [
    "print(len(fn_lgr['tweet'].drop_duplicates()))\n",
    "\n",
    "for lines in set(fn_lgr['tweet']):\n",
    "    print(lines + '\\n')"
   ]
  },
  {
   "cell_type": "code",
   "execution_count": null,
   "id": "50377126",
   "metadata": {},
   "outputs": [],
   "source": [
    "print(len(fp_lgr['tweet'].drop_duplicates()))\n",
    "\n",
    "for lines in set(fp_lgr['tweet']):\n",
    "    print(lines + '\\n')"
   ]
  },
  {
   "cell_type": "code",
   "execution_count": 4,
   "id": "13abf2e6",
   "metadata": {},
   "outputs": [],
   "source": [
    "filtered_to_clean()"
   ]
  },
  {
   "cell_type": "code",
   "execution_count": 7,
   "id": "a71082d9",
   "metadata": {},
   "outputs": [
    {
     "data": {
      "text/plain": [
       "x    939827\n",
       "0     24826\n",
       "1      3561\n",
       "Name: injury_report, dtype: int64"
      ]
     },
     "execution_count": 7,
     "metadata": {},
     "output_type": "execute_result"
    }
   ],
   "source": [
    "data = pd.read_csv('filtered.csv')\n",
    "data = data[['injury_report', 'tweet']]\n",
    "data.drop_duplicates(inplace = True)\n",
    "data['injury_report'].value_counts()"
   ]
  },
  {
   "cell_type": "code",
   "execution_count": 2,
   "id": "9ae0e95f",
   "metadata": {},
   "outputs": [
    {
     "name": "stdout",
     "output_type": "stream",
     "text": [
      "Your browser has been opened to visit:\n",
      "\n",
      "    https://accounts.google.com/o/oauth2/auth?client_id=423712477819-d11hdrgu9ao2bdsnvd7v7k60aisj8j9p.apps.googleusercontent.com&redirect_uri=http%3A%2F%2Flocalhost%3A8080%2F&scope=https%3A%2F%2Fwww.googleapis.com%2Fauth%2Fdrive&access_type=offline&response_type=code\n",
      "\n",
      "Authentication successful.\n"
     ]
    }
   ],
   "source": [
    "upload_files()"
   ]
  },
  {
   "cell_type": "code",
   "execution_count": 5,
   "id": "e65c166b",
   "metadata": {},
   "outputs": [
    {
     "data": {
      "text/plain": [
       "2308"
      ]
     },
     "execution_count": 5,
     "metadata": {},
     "output_type": "execute_result"
    }
   ],
   "source": [
    "file = open('AccountList.txt')\n",
    "names = file.readlines()\n",
    "file.close\n",
    "len(names)"
   ]
  },
  {
   "cell_type": "code",
   "execution_count": null,
   "id": "651e0ac9",
   "metadata": {},
   "outputs": [],
   "source": []
  }
 ],
 "metadata": {
  "kernelspec": {
   "display_name": "Python 3 (ipykernel)",
   "language": "python",
   "name": "python3"
  },
  "language_info": {
   "codemirror_mode": {
    "name": "ipython",
    "version": 3
   },
   "file_extension": ".py",
   "mimetype": "text/x-python",
   "name": "python",
   "nbconvert_exporter": "python",
   "pygments_lexer": "ipython3",
   "version": "3.9.6"
  }
 },
 "nbformat": 4,
 "nbformat_minor": 5
}
