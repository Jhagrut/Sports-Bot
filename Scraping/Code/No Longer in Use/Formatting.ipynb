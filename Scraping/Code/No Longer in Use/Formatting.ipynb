{
 "cells": [
  {
   "cell_type": "code",
   "execution_count": 1,
   "metadata": {},
   "outputs": [
    {
     "name": "stderr",
     "output_type": "stream",
     "text": [
      "C:\\Users\\jhd15\\anaconda3\\lib\\site-packages\\IPython\\core\\interactiveshell.py:3146: DtypeWarning: Columns (9,21,36) have mixed types.Specify dtype option on import or set low_memory=False.\n",
      "  has_raised = await self.run_ast_nodes(code_ast.body, cell_name,\n"
     ]
    }
   ],
   "source": [
    "import pandas as pd\n",
    "\n",
    "def ifelse(boolean, ifValue, elseValue):\n",
    "    if boolean:\n",
    "        return ifValue\n",
    "    else:\n",
    "        return elseValue\n",
    "\n",
    "raw_data = pd.read_csv('merged.csv')\n",
    "\n",
    "raw_data['urls'] = raw_data['urls'].apply(lambda x: str(x).lstrip(\"[\").rstrip(\"]\"))\n",
    "raw_data['link_present'] = raw_data['urls'].apply(lambda x: ifelse(len(x) > 0, 1, 0))\n",
    "raw_data['photos'] = raw_data['photos'].apply(lambda x: str(x).lstrip(\"[\").rstrip(\"]\"))\n",
    "raw_data['photo_present'] = raw_data['photos'].apply(lambda x: ifelse(len(x) > 0, 1, 0))\n",
    "raw_data['retweet'] = raw_data['retweet'].apply(lambda x: ifelse(x, 1, 0))\n",
    "\n",
    "file = open('labeledTweets.txt', 'r')\n",
    "labeledData = file.readlines()\n",
    "file.close()\n",
    "\n",
    "labeledData = [tweets.rstrip('\\n') for tweets in labeledData]\n",
    "raw_data['injury_report'] = raw_data['link'].apply(lambda x: '1' if x in labeledData else 'x')\n",
    "\n",
    "raw_data = raw_data[['injury_report', 'retweet', 'photo_present', 'link_present', 'replies_count', 'retweets_count',\n",
    "     'likes_count', 'username', 'tweet']]\n",
    "\n",
    "filtered_data = pd.read_csv('filtered.csv')\n",
    "\n",
    "key_diff = set(raw_data.tweet).difference(filtered_data.tweet)\n",
    "where_diff = raw_data.tweet.isin(key_diff)\n",
    "\n",
    "filtered_data = filtered_data.append(raw_data[where_diff], ignore_index=True)\n",
    "\n",
    "filtered_data.to_csv('filtered.csv', index=False)"
   ]
  },
  {
   "cell_type": "code",
   "execution_count": 3,
   "metadata": {},
   "outputs": [
    {
     "data": {
      "text/plain": [
       "0                                                        []\n",
       "1                                                        []\n",
       "2                                                        []\n",
       "3                                                        []\n",
       "4                                                        []\n",
       "                                ...                        \n",
       "308003    ['https://pbs.twimg.com/media/E6fprwqXMAcSzAX....\n",
       "308004    ['https://pbs.twimg.com/media/E6fjf9yXEAIICoM....\n",
       "308005    ['https://pbs.twimg.com/media/E6fb8TqXEAAWn8g....\n",
       "308006    ['https://pbs.twimg.com/media/E6fVw82XoAIVWDy....\n",
       "308007    ['https://pbs.twimg.com/media/E6fONcFWUAE009e....\n",
       "Name: photos, Length: 308008, dtype: object"
      ]
     },
     "execution_count": 3,
     "metadata": {},
     "output_type": "execute_result"
    }
   ],
   "source": [
    "raw_data['photos']"
   ]
  },
  {
   "cell_type": "code",
   "execution_count": null,
   "metadata": {},
   "outputs": [],
   "source": []
  }
 ],
 "metadata": {
  "kernelspec": {
   "display_name": "Python 3",
   "language": "python",
   "name": "python3"
  },
  "language_info": {
   "codemirror_mode": {
    "name": "ipython",
    "version": 3
   },
   "file_extension": ".py",
   "mimetype": "text/x-python",
   "name": "python",
   "nbconvert_exporter": "python",
   "pygments_lexer": "ipython3",
   "version": "3.8.5"
  }
 },
 "nbformat": 4,
 "nbformat_minor": 4
}
