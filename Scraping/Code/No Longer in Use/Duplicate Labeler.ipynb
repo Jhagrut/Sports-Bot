{
 "cells": [
  {
   "cell_type": "code",
   "execution_count": 405,
   "metadata": {},
   "outputs": [],
   "source": [
    "import pandas as pd\n",
    "\n",
    "data = pd.read_csv('filtered.csv')\n",
    "\n",
    "tweets = data[data['injury_report'] != 'x']['tweet'].value_counts(ascending=False)\n",
    "tweets = tweets[tweets > 1].index\n",
    "\n",
    "for i in range(len(tweets)):\n",
    "    \n",
    "    if '0' in list(data[data['tweet'] == tweets[i]]['injury_report']):\n",
    "        data.loc[data[data['tweet'] == tweets[i]].index, 'injury_report'] = '0'\n",
    "        \n",
    "    elif '1' in list(data[data['tweet'] == tweets[i]]['injury_report']):\n",
    "        data.loc[data[data['tweet'] == tweets[i]].index, 'injury_report'] = '1'"
   ]
  },
  {
   "cell_type": "code",
   "execution_count": 404,
   "metadata": {},
   "outputs": [
    {
     "data": {
      "text/plain": [
       "x    591893\n",
       "0     21134\n",
       "1      1432\n",
       "Name: injury_report, dtype: int64"
      ]
     },
     "execution_count": 404,
     "metadata": {},
     "output_type": "execute_result"
    }
   ],
   "source": [
    "data['injury_report'].value_counts()"
   ]
  },
  {
   "cell_type": "code",
   "execution_count": 398,
   "metadata": {},
   "outputs": [],
   "source": [
    "data.to_csv('filtered.csv', index=False)"
   ]
  },
  {
   "cell_type": "code",
   "execution_count": 53,
   "metadata": {},
   "outputs": [],
   "source": [
    "tweet = \"Family first. ♥️  https://t.co/U1U0Ly94J6\"\n",
    "\n",
    "data.loc[data[data['tweet'] == tweet].index, 'injury_report'] = '0'"
   ]
  },
  {
   "cell_type": "code",
   "execution_count": 396,
   "metadata": {},
   "outputs": [
    {
     "data": {
      "text/plain": [
       "Anthony Edwards in the house.                                                                                                                                                                                                                                                                    2\n",
       "VOTE @SRPPark !!                                                                                                                                                                                                                                                                                 2\n",
       "@NYJ_Scanman yes soon                                                                                                                                                                                                                                                                            2\n",
       "Aaron Judge is the starting right fielder and cleanup hitter in the All Star Game tomorrow night. Max Scherzer is the opposing starting pitcher  Here’s how that went in 2018  https://t.co/V2ScRPQyBJ                                                                                           2\n",
       "Impressive.                                                                                                                                                                                                                                                                                      2\n",
       "@WhirlingPervish 😭                                                                                                                                                                                                                                                                               2\n",
       "#FCB 🔵🔴  😊 El brasileño, uno de los más felices con la noticia  🔱 Junto a Mbappé formarán una delantera de ensueño   https://t.co/kJtVQEiiHh                                                                                                                                                     2\n",
       "It's 7-3 now on Andrew Benintendi's solo shot in the sixth, his 10th of the season. Connects on a 3-2 fastball and launches it 420 feet to right-center field.                                                                                                                                   2\n",
       "Who is the pound for pound toughest athlete of all-time?                                                                                                                                                                                                                                         2\n",
       "I messaged a few Chicago police officers about why many of them don't mess with Mayor Lori Lightfoot.  Thread:                                                                                                                                                                                   2\n",
       "See Progressive Field this October like never before with the Indians Experience Ticket!  This next-level experience includes golf play, visiting team dugout access, warning track photo opportunities, drink tickets, and more!  TICKETS:  https://t.co/bA2fDyW0qi  https://t.co/23rt2P6h8Y    2\n",
       "This is extremely cool/weird/gnarly                                                                                                                                                                                                                                                              2\n",
       "Justin Hardee, a special teams standout, just headed inside with a trainer while walking with a little bit of a limp. #Jets                                                                                                                                                                      2\n",
       "Oklahoma City Thunder’s Jeremiah Robinson-Earl — the No. 32 pick in the 2021 NBA draft — has agreed to a four-year, $8 million rookie deal, sources tell @TheAthletic @Stadium.                                                                                                                  2\n",
       "Josh Allen's contract contains $150M in guaranteed money according to @AdamSchefter   That would break Patrick Mahomes' record for the most guaranteed money in a single contract in NFL history.  https://t.co/Qkr0Xq0A0V                                                                       2\n",
       "Long lineups at Pearson as passengers say they’re waiting hours on parked planes or in crowded rooms without air conditioning  https://t.co/3f0ML0LxG1                                                                                                                                           2\n",
       "Following tonight’s game, the @Yankees optioned RHP Michael King to the Alternate Site.                                                                                                                                                                                                          2\n",
       "@MzCSmith This is tremendous! Lucky students!! 👏🏻👏🏻👏🏻👏🏻                                                                                                                                                                                                                                          2\n",
       "@SirJacobSidney some of these are breakthrough infections among vaccinated players                                                                                                                                                                                                               2\n",
       "The Open Championship 🏌️‍♂️ ⛳️ Odds to Win (21.0% theo hold)  @TheOpen  https://t.co/BKq8a8N5qs                                                                                                                                                                                                  2\n",
       "Name: tweet, dtype: int64"
      ]
     },
     "execution_count": 396,
     "metadata": {},
     "output_type": "execute_result"
    }
   ],
   "source": [
    "data[data['injury_report'] == 'x']['tweet'].value_counts().head(20)"
   ]
  },
  {
   "cell_type": "code",
   "execution_count": 397,
   "metadata": {},
   "outputs": [],
   "source": [
    "noninjuries = data[data['injury_report'] == 'x']['tweet'].value_counts().head(20).index\n",
    "\n",
    "for i in range(len(noninjuries)):\n",
    "    data.loc[data[data['tweet'] == noninjuries[i]].index, 'injury_report'] = '0'"
   ]
  },
  {
   "cell_type": "code",
   "execution_count": 391,
   "metadata": {},
   "outputs": [],
   "source": [
    "tweet = data[data['injury_report'] == 'x']['tweet'].value_counts().head(20).index[0]\n",
    "\n",
    "data.loc[data[data['tweet'] == tweet].index, 'injury_report'] = '1'"
   ]
  },
  {
   "cell_type": "code",
   "execution_count": 214,
   "metadata": {},
   "outputs": [
    {
     "data": {
      "text/plain": [
       "'Out of the known positives (Cortes, Peralta, Loaisiga), all three were vaccinated. They are doing well, according to Cashman.'"
      ]
     },
     "execution_count": 214,
     "metadata": {},
     "output_type": "execute_result"
    }
   ],
   "source": [
    "data[data['injury_report'] == 'x']['tweet'].value_counts().head(10).index[5]"
   ]
  },
  {
   "cell_type": "code",
   "execution_count": null,
   "metadata": {},
   "outputs": [],
   "source": []
  }
 ],
 "metadata": {
  "kernelspec": {
   "display_name": "Python 3",
   "language": "python",
   "name": "python3"
  },
  "language_info": {
   "codemirror_mode": {
    "name": "ipython",
    "version": 3
   },
   "file_extension": ".py",
   "mimetype": "text/x-python",
   "name": "python",
   "nbconvert_exporter": "python",
   "pygments_lexer": "ipython3",
   "version": "3.8.5"
  }
 },
 "nbformat": 4,
 "nbformat_minor": 4
}
