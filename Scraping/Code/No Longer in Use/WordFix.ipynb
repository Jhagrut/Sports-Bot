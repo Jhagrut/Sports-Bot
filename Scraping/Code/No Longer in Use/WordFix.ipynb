{
 "cells": [
  {
   "cell_type": "code",
   "execution_count": 1,
   "metadata": {},
   "outputs": [],
   "source": [
    "import pandas"
   ]
  },
  {
   "cell_type": "code",
   "execution_count": 3,
   "metadata": {},
   "outputs": [],
   "source": [
    "data = pandas.read_csv('filtered.csv')"
   ]
  },
  {
   "cell_type": "code",
   "execution_count": 4,
   "metadata": {},
   "outputs": [
    {
     "data": {
      "text/plain": [
       "0         Mets Game 81 of 162, vs. MIL Monday, July 5, 7...\n",
       "1         @Blyzzard211 That is 100% an organizational ph...\n",
       "2         @rmazzochi Sounds like this weekend, unless th...\n",
       "3           @EddieEddington2 The final eight weeks of 2015.\n",
       "4         @alexdeejames Not weird. Manny Machado was a b...\n",
       "                                ...                        \n",
       "177445    Al Dente; Minamiishidōchō-1366 Minaminagano, N...\n",
       "177446    Dailyfood; Flamingostraat 68, Paramaribo, Suri...\n",
       "177447    Sitar Indian Restaurant; Bagatelle Valentina L...\n",
       "177448    Restaurant Munch; Godset 5, 1518 Moss, Norway ...\n",
       "177449    Madaeef Turkish Restaurant; Block 904 Road 86 ...\n",
       "Name: tweet, Length: 177450, dtype: object"
      ]
     },
     "execution_count": 4,
     "metadata": {},
     "output_type": "execute_result"
    }
   ],
   "source": [
    "data['tweet']"
   ]
  },
  {
   "cell_type": "code",
   "execution_count": 5,
   "metadata": {},
   "outputs": [],
   "source": [
    "# @anything -> referenceToken\n",
    "# Ã -> í\n",
    "# â€™ -> '\n",
    "# â€ -> '\n",
    "# â€œ -> \"\n",
    "# â€“ -> -\n",
    "# Ã³ -> ó\n",
    "# Ã¡ -> á\n",
    "#  â° -> timeEmoji \n",
    "# ðŸ“º -> tvEmoji \n",
    "#  ðŸ“» -> radioEmoji \n",
    "# ðŸ˜  -> laughTearsEmoji \n",
    "# â­ï¸ -> starEmoji \n",
    "# ðŸ‡ºðŸ‡¸ -> americanFlagEmoji \n",
    "# ðŸŽ‰ -> partyEmoji\n",
    "# ðŸ‘‡ -> pointDownEmoji\n",
    "# ðŸ‘ -> clapEmoji\n",
    "# ðŸ‘€ -> sideEyesEmoji\n",
    "# ðŸ˜¤ -> angrySnortEmoji\n",
    "# âš¡ï¸ -> lightningBoltEmoji\n",
    "# ðŸ’ª -> flexEmoji\n",
    "\n",
    "# The number emojis follow a pattern:\n",
    "\n",
    "# 9ï¸âƒ£ -> nineEmoji\n",
    "# 6ï¸âƒ£ -> sixEmoji\n",
    "# 3ï¸âƒ£ -> threeEmoji"
   ]
  },
  {
   "cell_type": "code",
   "execution_count": 6,
   "metadata": {},
   "outputs": [],
   "source": [
    "file = open('accountList.txt', 'r')\n",
    "text = file.readlines()\n",
    "file.close()\n",
    "userids = [userid.rstrip('\\n') for userid in text]"
   ]
  },
  {
   "cell_type": "code",
   "execution_count": 13,
   "metadata": {},
   "outputs": [],
   "source": [
    "key = [1 if entry == 'masnNational' else 0 for entry in userids]"
   ]
  },
  {
   "cell_type": "code",
   "execution_count": 14,
   "metadata": {},
   "outputs": [
    {
     "name": "stdout",
     "output_type": "stream",
     "text": [
      "1376\n"
     ]
    }
   ],
   "source": [
    "for i in range(len(key)):\n",
    "    if key[i] == 1:\n",
    "        print(i)"
   ]
  },
  {
   "cell_type": "code",
   "execution_count": null,
   "metadata": {},
   "outputs": [],
   "source": []
  }
 ],
 "metadata": {
  "kernelspec": {
   "display_name": "Python 3",
   "language": "python",
   "name": "python3"
  },
  "language_info": {
   "codemirror_mode": {
    "name": "ipython",
    "version": 3
   },
   "file_extension": ".py",
   "mimetype": "text/x-python",
   "name": "python",
   "nbconvert_exporter": "python",
   "pygments_lexer": "ipython3",
   "version": "3.8.5"
  }
 },
 "nbformat": 4,
 "nbformat_minor": 4
}
