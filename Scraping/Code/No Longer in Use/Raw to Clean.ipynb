{
 "cells": [
  {
   "cell_type": "code",
   "execution_count": 1,
   "id": "5be8a3a0",
   "metadata": {},
   "outputs": [],
   "source": [
    "import pandas as pd\n",
    "\n",
    "# For further cleaning with word stemming and lemmatization:\n",
    "import string\n",
    "import re\n",
    "import nltk\n",
    "from nltk.tokenize import word_tokenize\n",
    "from nltk.corpus import stopwords\n",
    "from nltk.stem import WordNetLemmatizer"
   ]
  },
  {
   "cell_type": "code",
   "execution_count": 2,
   "id": "177b6273",
   "metadata": {},
   "outputs": [],
   "source": [
    "def ifelse(boolean, ifValue, elseValue):\n",
    "    if boolean:\n",
    "        return ifValue\n",
    "    else:\n",
    "        return elseValue\n",
    "\n",
    "def clean_text(txt):\n",
    "    \"\"\"\"\"\n",
    "    cleans the input text in the following steps\n",
    "    1- replace contractions\n",
    "    2- removing punctuation\n",
    "    3- spliting into words\n",
    "    4- removing stopwords\n",
    "    5- removing leftover punctuations\n",
    "    \"\"\"\"\"\n",
    "    contraction_dict = {\"ain't\": \"is not\", \"aren't\": \"are not\",\"can't\": \"cannot\", \"'cause\": \"because\", \"could've\": \"could have\", \"couldn't\": \"could not\", \"didn't\": \"did not\",  \"doesn't\": \"does not\", \"don't\": \"do not\", \"hadn't\": \"had not\", \"hasn't\": \"has not\", \"haven't\": \"have not\", \"he'd\": \"he would\",\"he'll\": \"he will\", \"he's\": \"he is\", \"how'd\": \"how did\", \"how'd'y\": \"how do you\", \"how'll\": \"how will\", \"how's\": \"how is\",  \"I'd\": \"I would\", \"I'd've\": \"I would have\", \"I'll\": \"I will\", \"I'll've\": \"I will have\",\"I'm\": \"I am\", \"I've\": \"I have\", \"i'd\": \"i would\", \"i'd've\": \"i would have\", \"i'll\": \"i will\",  \"i'll've\": \"i will have\",\"i'm\": \"i am\", \"i've\": \"i have\", \"isn't\": \"is not\", \"it'd\": \"it would\", \"it'd've\": \"it would have\", \"it'll\": \"it will\", \"it'll've\": \"it will have\",\"it's\": \"it is\", \"let's\": \"let us\", \"ma'am\": \"madam\", \"mayn't\": \"may not\", \"might've\": \"might have\",\"mightn't\": \"might not\",\"mightn't've\": \"might not have\", \"must've\": \"must have\", \"mustn't\": \"must not\", \"mustn't've\": \"must not have\", \"needn't\": \"need not\", \"needn't've\": \"need not have\",\"o'clock\": \"of the clock\", \"oughtn't\": \"ought not\", \"oughtn't've\": \"ought not have\", \"shan't\": \"shall not\", \"sha'n't\": \"shall not\", \"shan't've\": \"shall not have\", \"she'd\": \"she would\", \"she'd've\": \"she would have\", \"she'll\": \"she will\", \"she'll've\": \"she will have\", \"she's\": \"she is\", \"should've\": \"should have\", \"shouldn't\": \"should not\", \"shouldn't've\": \"should not have\", \"so've\": \"so have\",\"so's\": \"so as\", \"this's\": \"this is\",\"that'd\": \"that would\", \"that'd've\": \"that would have\", \"that's\": \"that is\", \"there'd\": \"there would\", \"there'd've\": \"there would have\", \"there's\": \"there is\", \"here's\": \"here is\",\"they'd\": \"they would\", \"they'd've\": \"they would have\", \"they'll\": \"they will\", \"they'll've\": \"they will have\", \"they're\": \"they are\", \"they've\": \"they have\", \"to've\": \"to have\", \"wasn't\": \"was not\", \"we'd\": \"we would\", \"we'd've\": \"we would have\", \"we'll\": \"we will\", \"we'll've\": \"we will have\", \"we're\": \"we are\", \"we've\": \"we have\", \"weren't\": \"were not\", \"what'll\": \"what will\", \"what'll've\": \"what will have\", \"what're\": \"what are\",  \"what's\": \"what is\", \"what've\": \"what have\", \"when's\": \"when is\", \"when've\": \"when have\", \"where'd\": \"where did\", \"where's\": \"where is\", \"where've\": \"where have\", \"who'll\": \"who will\", \"who'll've\": \"who will have\", \"who's\": \"who is\", \"who've\": \"who have\", \"why's\": \"why is\", \"why've\": \"why have\", \"will've\": \"will have\", \"won't\": \"will not\", \"won't've\": \"will not have\", \"would've\": \"would have\", \"wouldn't\": \"would not\", \"wouldn't've\": \"would not have\", \"y'all\": \"you all\", \"y'all'd\": \"you all would\",\"y'all'd've\": \"you all would have\",\"y'all're\": \"you all are\",\"y'all've\": \"you all have\",\"you'd\": \"you would\", \"you'd've\": \"you would have\", \"you'll\": \"you will\", \"you'll've\": \"you will have\", \"you're\": \"you are\", \"you've\": \"you have\"}\n",
    "    def _get_contractions(contraction_dict):\n",
    "        contraction_re = re.compile('(%s)' % '|'.join(contraction_dict.keys()))\n",
    "        return contraction_dict, contraction_re\n",
    "\n",
    "    def replace_contractions(text):\n",
    "        contractions, contractions_re = _get_contractions(contraction_dict)\n",
    "        def replace(match):\n",
    "            return contractions[match.group(0)]\n",
    "        return contractions_re.sub(replace, text)\n",
    "\n",
    "    # replace contractions\n",
    "    txt = replace_contractions(txt)\n",
    "    \n",
    "    #remove punctuations\n",
    "    txt  = \"\".join([char for char in txt if char not in string.punctuation])\n",
    "    txt = re.sub('[0-9]+', '', txt)\n",
    "    \n",
    "    # split into words\n",
    "    words = word_tokenize(txt)\n",
    "    \n",
    "    # remove stopwords\n",
    "    stop_words = set(stopwords.words('english'))\n",
    "    words = [w for w in words if not w in stop_words]\n",
    "    \n",
    "    # removing leftover punctuations\n",
    "    words = [word for word in words if word.isalpha()]\n",
    "    \n",
    "    cleaned_text = ' '.join(words)\n",
    "    return cleaned_text"
   ]
  },
  {
   "cell_type": "code",
   "execution_count": 3,
   "id": "690bc22a",
   "metadata": {},
   "outputs": [
    {
     "name": "stderr",
     "output_type": "stream",
     "text": [
      "C:\\Users\\jhd15\\anaconda3\\lib\\site-packages\\IPython\\core\\interactiveshell.py:3441: DtypeWarning: Columns (9,21,36) have mixed types.Specify dtype option on import or set low_memory=False.\n",
      "  exec(code_obj, self.user_global_ns, self.user_ns)\n"
     ]
    }
   ],
   "source": [
    "# Format the data from merged.csv to send to filtered.csv\n",
    "\n",
    "raw_data = pd.read_csv('merged.csv')\n",
    "\n",
    "raw_data['urls'] = raw_data['urls'].apply(lambda x: str(x).lstrip(\"[\").rstrip(\"]\"))\n",
    "raw_data['link_present'] = raw_data['urls'].apply(lambda x: ifelse(len(x) > 0, 1, 0))\n",
    "raw_data['photos'] = raw_data['photos'].apply(lambda x: str(x).lstrip(\"[\").rstrip(\"]\"))\n",
    "raw_data['photo_present'] = raw_data['photos'].apply(lambda x: ifelse(len(x) > 0, 1, 0))\n",
    "raw_data['retweet'] = raw_data['retweet'].apply(lambda x: ifelse(x, 1, 0))\n",
    "\n",
    "file = open('labeledTweets.txt', 'r')\n",
    "labeledData = file.readlines()\n",
    "file.close()\n",
    "\n",
    "labeledData = [tweets.rstrip('\\n') for tweets in labeledData]\n",
    "raw_data['injury_report'] = raw_data['link'].apply(lambda x: '1' if x in labeledData else 'x')\n",
    "\n",
    "raw_data = raw_data[['injury_report', 'retweet', 'photo_present', 'link_present', 'replies_count', 'retweets_count',\n",
    "     'likes_count', 'username', 'tweet']]\n",
    "\n",
    "filtered_data = pd.read_csv('filtered.csv')\n",
    "\n",
    "key_diff = set(raw_data.tweet).difference(filtered_data.tweet)\n",
    "where_diff = raw_data.tweet.isin(key_diff)\n",
    "\n",
    "filtered_data = filtered_data.append(raw_data[where_diff], ignore_index=True)\n",
    "\n",
    "filtered_data.to_csv('filtered.csv', index=False)"
   ]
  },
  {
   "cell_type": "code",
   "execution_count": 4,
   "id": "a9861816",
   "metadata": {},
   "outputs": [],
   "source": [
    "# Make sure the duplicate data (example: retweets) picked up is already labeled.\n",
    "\n",
    "data = pd.read_csv('filtered.csv')\n",
    "\n",
    "tweets = data[data['injury_report'] != 'x']['tweet'].value_counts(ascending=False)\n",
    "tweets = tweets[tweets > 1].index\n",
    "\n",
    "for i in range(len(tweets)):\n",
    "    \n",
    "    if '0' in list(data[data['tweet'] == tweets[i]]['injury_report']):\n",
    "        data.loc[data[data['tweet'] == tweets[i]].index, 'injury_report'] = '0'\n",
    "        \n",
    "    elif '1' in list(data[data['tweet'] == tweets[i]]['injury_report']):\n",
    "        data.loc[data[data['tweet'] == tweets[i]].index, 'injury_report'] = '1'"
   ]
  },
  {
   "cell_type": "code",
   "execution_count": 5,
   "id": "105ad1a4",
   "metadata": {},
   "outputs": [],
   "source": [
    "# Drop all duplicates that got through to filtered.csv and send to clean.csv, which is added to github.\n",
    "\n",
    "data = data[data['injury_report'] != 'x']\n",
    "data = data[['injury_report', 'tweet']]\n",
    "data = data.drop_duplicates()\n",
    "data = data[data['tweet'].apply(lambda x: isinstance(x, str))]\n",
    "data['clean'] = data['tweet'].apply(lambda txt: clean_text(txt))\n",
    "data.dropna(inplace = True)\n",
    "data.to_csv('clean.csv', index=False)"
   ]
  },
  {
   "cell_type": "code",
   "execution_count": 6,
   "id": "78f765b3",
   "metadata": {},
   "outputs": [
    {
     "data": {
      "text/plain": [
       "0    21990\n",
       "1     2148\n",
       "Name: injury_report, dtype: int64"
      ]
     },
     "execution_count": 6,
     "metadata": {},
     "output_type": "execute_result"
    }
   ],
   "source": [
    "data['injury_report'].value_counts()"
   ]
  },
  {
   "cell_type": "code",
   "execution_count": null,
   "id": "33bf9f6e",
   "metadata": {},
   "outputs": [],
   "source": []
  }
 ],
 "metadata": {
  "kernelspec": {
   "display_name": "Python 3",
   "language": "python",
   "name": "python3"
  },
  "language_info": {
   "codemirror_mode": {
    "name": "ipython",
    "version": 3
   },
   "file_extension": ".py",
   "mimetype": "text/x-python",
   "name": "python",
   "nbconvert_exporter": "python",
   "pygments_lexer": "ipython3",
   "version": "3.8.11"
  }
 },
 "nbformat": 4,
 "nbformat_minor": 5
}
