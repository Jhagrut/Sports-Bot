{
  "nbformat": 4,
  "nbformat_minor": 2,
  "metadata": {
    "colab": {
      "name": "Testing all models.ipynb",
      "provenance": [],
      "collapsed_sections": []
    },
    "kernelspec": {
      "name": "python3",
      "display_name": "Python 3"
    },
    "language_info": {
      "name": "python"
    },
    "accelerator": "GPU"
  },
  "cells": [
    {
      "cell_type": "code",
      "execution_count": null,
      "source": [
        "# os.environ['CUDA_LAUNCH_BLOCKING'] = \"1\""
      ],
      "outputs": [],
      "metadata": {
        "id": "oc0OOfnZJC2H"
      }
    },
    {
      "cell_type": "code",
      "execution_count": 1,
      "source": [
        "! pip install simpletransformers"
      ],
      "outputs": [
        {
          "output_type": "stream",
          "name": "stdout",
          "text": [
            "Collecting simpletransformers\n",
            "  Downloading simpletransformers-0.61.13-py3-none-any.whl (221 kB)\n",
            "\u001b[?25l\r\u001b[K     |█▌                              | 10 kB 24.4 MB/s eta 0:00:01\r\u001b[K     |███                             | 20 kB 26.3 MB/s eta 0:00:01\r\u001b[K     |████▍                           | 30 kB 11.7 MB/s eta 0:00:01\r\u001b[K     |██████                          | 40 kB 9.2 MB/s eta 0:00:01\r\u001b[K     |███████▍                        | 51 kB 5.2 MB/s eta 0:00:01\r\u001b[K     |████████▉                       | 61 kB 5.7 MB/s eta 0:00:01\r\u001b[K     |██████████▍                     | 71 kB 5.5 MB/s eta 0:00:01\r\u001b[K     |███████████▉                    | 81 kB 6.2 MB/s eta 0:00:01\r\u001b[K     |█████████████▎                  | 92 kB 4.7 MB/s eta 0:00:01\r\u001b[K     |██████████████▉                 | 102 kB 5.1 MB/s eta 0:00:01\r\u001b[K     |████████████████▎               | 112 kB 5.1 MB/s eta 0:00:01\r\u001b[K     |█████████████████▊              | 122 kB 5.1 MB/s eta 0:00:01\r\u001b[K     |███████████████████▎            | 133 kB 5.1 MB/s eta 0:00:01\r\u001b[K     |████████████████████▊           | 143 kB 5.1 MB/s eta 0:00:01\r\u001b[K     |██████████████████████▏         | 153 kB 5.1 MB/s eta 0:00:01\r\u001b[K     |███████████████████████▋        | 163 kB 5.1 MB/s eta 0:00:01\r\u001b[K     |█████████████████████████▏      | 174 kB 5.1 MB/s eta 0:00:01\r\u001b[K     |██████████████████████████▋     | 184 kB 5.1 MB/s eta 0:00:01\r\u001b[K     |████████████████████████████    | 194 kB 5.1 MB/s eta 0:00:01\r\u001b[K     |█████████████████████████████▋  | 204 kB 5.1 MB/s eta 0:00:01\r\u001b[K     |███████████████████████████████ | 215 kB 5.1 MB/s eta 0:00:01\r\u001b[K     |████████████████████████████████| 221 kB 5.1 MB/s \n",
            "\u001b[?25hRequirement already satisfied: tqdm>=4.47.0 in /usr/local/lib/python3.7/dist-packages (from simpletransformers) (4.62.0)\n",
            "Collecting transformers>=4.2.0\n",
            "  Downloading transformers-4.10.0-py3-none-any.whl (2.8 MB)\n",
            "\u001b[K     |████████████████████████████████| 2.8 MB 33.5 MB/s \n",
            "\u001b[?25hCollecting tokenizers\n",
            "  Downloading tokenizers-0.10.3-cp37-cp37m-manylinux_2_5_x86_64.manylinux1_x86_64.manylinux_2_12_x86_64.manylinux2010_x86_64.whl (3.3 MB)\n",
            "\u001b[K     |████████████████████████████████| 3.3 MB 43.4 MB/s \n",
            "\u001b[?25hCollecting tensorboardx\n",
            "  Downloading tensorboardX-2.4-py2.py3-none-any.whl (124 kB)\n",
            "\u001b[K     |████████████████████████████████| 124 kB 44.0 MB/s \n",
            "\u001b[?25hCollecting wandb>=0.10.32\n",
            "  Downloading wandb-0.12.1-py2.py3-none-any.whl (1.7 MB)\n",
            "\u001b[K     |████████████████████████████████| 1.7 MB 27.7 MB/s \n",
            "\u001b[?25hRequirement already satisfied: scipy in /usr/local/lib/python3.7/dist-packages (from simpletransformers) (1.4.1)\n",
            "Requirement already satisfied: scikit-learn in /usr/local/lib/python3.7/dist-packages (from simpletransformers) (0.22.2.post1)\n",
            "Requirement already satisfied: regex in /usr/local/lib/python3.7/dist-packages (from simpletransformers) (2019.12.20)\n",
            "Requirement already satisfied: requests in /usr/local/lib/python3.7/dist-packages (from simpletransformers) (2.23.0)\n",
            "Collecting seqeval\n",
            "  Downloading seqeval-1.2.2.tar.gz (43 kB)\n",
            "\u001b[K     |████████████████████████████████| 43 kB 1.9 MB/s \n",
            "\u001b[?25hRequirement already satisfied: pandas in /usr/local/lib/python3.7/dist-packages (from simpletransformers) (1.1.5)\n",
            "Requirement already satisfied: numpy in /usr/local/lib/python3.7/dist-packages (from simpletransformers) (1.19.5)\n",
            "Collecting sentencepiece\n",
            "  Downloading sentencepiece-0.1.96-cp37-cp37m-manylinux_2_17_x86_64.manylinux2014_x86_64.whl (1.2 MB)\n",
            "\u001b[K     |████████████████████████████████| 1.2 MB 28.8 MB/s \n",
            "\u001b[?25hCollecting streamlit\n",
            "  Downloading streamlit-0.88.0-py2.py3-none-any.whl (8.0 MB)\n",
            "\u001b[K     |████████████████████████████████| 8.0 MB 21.6 MB/s \n",
            "\u001b[?25hCollecting datasets\n",
            "  Downloading datasets-1.11.0-py3-none-any.whl (264 kB)\n",
            "\u001b[K     |████████████████████████████████| 264 kB 52.4 MB/s \n",
            "\u001b[?25hCollecting pyyaml>=5.1\n",
            "  Downloading PyYAML-5.4.1-cp37-cp37m-manylinux1_x86_64.whl (636 kB)\n",
            "\u001b[K     |████████████████████████████████| 636 kB 41.6 MB/s \n",
            "\u001b[?25hRequirement already satisfied: packaging in /usr/local/lib/python3.7/dist-packages (from transformers>=4.2.0->simpletransformers) (21.0)\n",
            "Requirement already satisfied: importlib-metadata in /usr/local/lib/python3.7/dist-packages (from transformers>=4.2.0->simpletransformers) (4.6.4)\n",
            "Requirement already satisfied: filelock in /usr/local/lib/python3.7/dist-packages (from transformers>=4.2.0->simpletransformers) (3.0.12)\n",
            "Collecting huggingface-hub>=0.0.12\n",
            "  Downloading huggingface_hub-0.0.16-py3-none-any.whl (50 kB)\n",
            "\u001b[K     |████████████████████████████████| 50 kB 6.2 MB/s \n",
            "\u001b[?25hCollecting sacremoses\n",
            "  Downloading sacremoses-0.0.45-py3-none-any.whl (895 kB)\n",
            "\u001b[K     |████████████████████████████████| 895 kB 49.1 MB/s \n",
            "\u001b[?25hRequirement already satisfied: typing-extensions in /usr/local/lib/python3.7/dist-packages (from huggingface-hub>=0.0.12->transformers>=4.2.0->simpletransformers) (3.7.4.3)\n",
            "Requirement already satisfied: pyparsing>=2.0.2 in /usr/local/lib/python3.7/dist-packages (from packaging->transformers>=4.2.0->simpletransformers) (2.4.7)\n",
            "Collecting docker-pycreds>=0.4.0\n",
            "  Downloading docker_pycreds-0.4.0-py2.py3-none-any.whl (9.0 kB)\n",
            "Requirement already satisfied: Click!=8.0.0,>=7.0 in /usr/local/lib/python3.7/dist-packages (from wandb>=0.10.32->simpletransformers) (7.1.2)\n",
            "Requirement already satisfied: protobuf>=3.12.0 in /usr/local/lib/python3.7/dist-packages (from wandb>=0.10.32->simpletransformers) (3.17.3)\n",
            "Requirement already satisfied: six>=1.13.0 in /usr/local/lib/python3.7/dist-packages (from wandb>=0.10.32->simpletransformers) (1.15.0)\n",
            "Collecting sentry-sdk>=1.0.0\n",
            "  Downloading sentry_sdk-1.3.1-py2.py3-none-any.whl (133 kB)\n",
            "\u001b[K     |████████████████████████████████| 133 kB 51.3 MB/s \n",
            "\u001b[?25hCollecting pathtools\n",
            "  Downloading pathtools-0.1.2.tar.gz (11 kB)\n",
            "Requirement already satisfied: psutil>=5.0.0 in /usr/local/lib/python3.7/dist-packages (from wandb>=0.10.32->simpletransformers) (5.4.8)\n",
            "Requirement already satisfied: python-dateutil>=2.6.1 in /usr/local/lib/python3.7/dist-packages (from wandb>=0.10.32->simpletransformers) (2.8.2)\n",
            "Requirement already satisfied: promise<3,>=2.0 in /usr/local/lib/python3.7/dist-packages (from wandb>=0.10.32->simpletransformers) (2.3)\n",
            "Collecting GitPython>=1.0.0\n",
            "  Downloading GitPython-3.1.18-py3-none-any.whl (170 kB)\n",
            "\u001b[K     |████████████████████████████████| 170 kB 41.9 MB/s \n",
            "\u001b[?25hCollecting configparser>=3.8.1\n",
            "  Downloading configparser-5.0.2-py3-none-any.whl (19 kB)\n",
            "Collecting subprocess32>=3.5.3\n",
            "  Downloading subprocess32-3.5.4.tar.gz (97 kB)\n",
            "\u001b[K     |████████████████████████████████| 97 kB 7.1 MB/s \n",
            "\u001b[?25hCollecting shortuuid>=0.5.0\n",
            "  Downloading shortuuid-1.0.1-py3-none-any.whl (7.5 kB)\n",
            "Collecting gitdb<5,>=4.0.1\n",
            "  Downloading gitdb-4.0.7-py3-none-any.whl (63 kB)\n",
            "\u001b[K     |████████████████████████████████| 63 kB 1.7 MB/s \n",
            "\u001b[?25hCollecting smmap<5,>=3.0.1\n",
            "  Downloading smmap-4.0.0-py2.py3-none-any.whl (24 kB)\n",
            "Requirement already satisfied: urllib3!=1.25.0,!=1.25.1,<1.26,>=1.21.1 in /usr/local/lib/python3.7/dist-packages (from requests->simpletransformers) (1.24.3)\n",
            "Requirement already satisfied: idna<3,>=2.5 in /usr/local/lib/python3.7/dist-packages (from requests->simpletransformers) (2.10)\n",
            "Requirement already satisfied: certifi>=2017.4.17 in /usr/local/lib/python3.7/dist-packages (from requests->simpletransformers) (2021.5.30)\n",
            "Requirement already satisfied: chardet<4,>=3.0.2 in /usr/local/lib/python3.7/dist-packages (from requests->simpletransformers) (3.0.4)\n",
            "Collecting xxhash\n",
            "  Downloading xxhash-2.0.2-cp37-cp37m-manylinux2010_x86_64.whl (243 kB)\n",
            "\u001b[K     |████████████████████████████████| 243 kB 49.2 MB/s \n",
            "\u001b[?25hCollecting fsspec>=2021.05.0\n",
            "  Downloading fsspec-2021.8.1-py3-none-any.whl (119 kB)\n",
            "\u001b[K     |████████████████████████████████| 119 kB 53.9 MB/s \n",
            "\u001b[?25hRequirement already satisfied: pyarrow!=4.0.0,>=1.0.0 in /usr/local/lib/python3.7/dist-packages (from datasets->simpletransformers) (3.0.0)\n",
            "Requirement already satisfied: dill in /usr/local/lib/python3.7/dist-packages (from datasets->simpletransformers) (0.3.4)\n",
            "Requirement already satisfied: multiprocess in /usr/local/lib/python3.7/dist-packages (from datasets->simpletransformers) (0.70.12.2)\n",
            "Requirement already satisfied: zipp>=0.5 in /usr/local/lib/python3.7/dist-packages (from importlib-metadata->transformers>=4.2.0->simpletransformers) (3.5.0)\n",
            "Requirement already satisfied: pytz>=2017.2 in /usr/local/lib/python3.7/dist-packages (from pandas->simpletransformers) (2018.9)\n",
            "Requirement already satisfied: joblib in /usr/local/lib/python3.7/dist-packages (from sacremoses->transformers>=4.2.0->simpletransformers) (1.0.1)\n",
            "Collecting watchdog\n",
            "  Downloading watchdog-2.1.5-py3-none-manylinux2014_x86_64.whl (75 kB)\n",
            "\u001b[K     |████████████████████████████████| 75 kB 4.5 MB/s \n",
            "\u001b[?25hRequirement already satisfied: pillow>=6.2.0 in /usr/local/lib/python3.7/dist-packages (from streamlit->simpletransformers) (7.1.2)\n",
            "Requirement already satisfied: toml in /usr/local/lib/python3.7/dist-packages (from streamlit->simpletransformers) (0.10.2)\n",
            "Collecting blinker\n",
            "  Downloading blinker-1.4.tar.gz (111 kB)\n",
            "\u001b[K     |████████████████████████████████| 111 kB 46.3 MB/s \n",
            "\u001b[?25hCollecting validators\n",
            "  Downloading validators-0.18.2-py3-none-any.whl (19 kB)\n",
            "Requirement already satisfied: astor in /usr/local/lib/python3.7/dist-packages (from streamlit->simpletransformers) (0.8.1)\n",
            "Collecting pydeck>=0.1.dev5\n",
            "  Downloading pydeck-0.7.0-py2.py3-none-any.whl (4.3 MB)\n",
            "\u001b[K     |████████████████████████████████| 4.3 MB 23.3 MB/s \n",
            "\u001b[?25hRequirement already satisfied: tzlocal in /usr/local/lib/python3.7/dist-packages (from streamlit->simpletransformers) (1.5.1)\n",
            "Collecting base58\n",
            "  Downloading base58-2.1.0-py3-none-any.whl (5.6 kB)\n",
            "Requirement already satisfied: attrs in /usr/local/lib/python3.7/dist-packages (from streamlit->simpletransformers) (21.2.0)\n",
            "Requirement already satisfied: tornado>=5.0 in /usr/local/lib/python3.7/dist-packages (from streamlit->simpletransformers) (5.1.1)\n",
            "Requirement already satisfied: cachetools>=4.0 in /usr/local/lib/python3.7/dist-packages (from streamlit->simpletransformers) (4.2.2)\n",
            "Requirement already satisfied: altair>=3.2.0 in /usr/local/lib/python3.7/dist-packages (from streamlit->simpletransformers) (4.1.0)\n",
            "Requirement already satisfied: toolz in /usr/local/lib/python3.7/dist-packages (from altair>=3.2.0->streamlit->simpletransformers) (0.11.1)\n",
            "Requirement already satisfied: entrypoints in /usr/local/lib/python3.7/dist-packages (from altair>=3.2.0->streamlit->simpletransformers) (0.3)\n",
            "Requirement already satisfied: jsonschema in /usr/local/lib/python3.7/dist-packages (from altair>=3.2.0->streamlit->simpletransformers) (2.6.0)\n",
            "Requirement already satisfied: jinja2 in /usr/local/lib/python3.7/dist-packages (from altair>=3.2.0->streamlit->simpletransformers) (2.11.3)\n",
            "Requirement already satisfied: ipywidgets>=7.0.0 in /usr/local/lib/python3.7/dist-packages (from pydeck>=0.1.dev5->streamlit->simpletransformers) (7.6.3)\n",
            "Collecting ipykernel>=5.1.2\n",
            "  Downloading ipykernel-6.3.1-py3-none-any.whl (123 kB)\n",
            "\u001b[K     |████████████████████████████████| 123 kB 45.6 MB/s \n",
            "\u001b[?25hRequirement already satisfied: traitlets>=4.3.2 in /usr/local/lib/python3.7/dist-packages (from pydeck>=0.1.dev5->streamlit->simpletransformers) (5.0.5)\n",
            "Requirement already satisfied: argcomplete>=1.12.3 in /usr/local/lib/python3.7/dist-packages (from ipykernel>=5.1.2->pydeck>=0.1.dev5->streamlit->simpletransformers) (1.12.3)\n",
            "Requirement already satisfied: debugpy<2.0,>=1.0.0 in /usr/local/lib/python3.7/dist-packages (from ipykernel>=5.1.2->pydeck>=0.1.dev5->streamlit->simpletransformers) (1.0.0)\n",
            "Requirement already satisfied: jupyter-client<8.0 in /usr/local/lib/python3.7/dist-packages (from ipykernel>=5.1.2->pydeck>=0.1.dev5->streamlit->simpletransformers) (5.3.5)\n",
            "Requirement already satisfied: matplotlib-inline<0.2.0,>=0.1.0 in /usr/local/lib/python3.7/dist-packages (from ipykernel>=5.1.2->pydeck>=0.1.dev5->streamlit->simpletransformers) (0.1.2)\n",
            "Requirement already satisfied: ipython-genutils in /usr/local/lib/python3.7/dist-packages (from ipykernel>=5.1.2->pydeck>=0.1.dev5->streamlit->simpletransformers) (0.2.0)\n",
            "Collecting ipython<8.0,>=7.23.1\n",
            "  Downloading ipython-7.27.0-py3-none-any.whl (787 kB)\n",
            "\u001b[K     |████████████████████████████████| 787 kB 41.8 MB/s \n",
            "\u001b[?25hRequirement already satisfied: jedi>=0.16 in /usr/local/lib/python3.7/dist-packages (from ipython<8.0,>=7.23.1->ipykernel>=5.1.2->pydeck>=0.1.dev5->streamlit->simpletransformers) (0.18.0)\n",
            "Requirement already satisfied: pickleshare in /usr/local/lib/python3.7/dist-packages (from ipython<8.0,>=7.23.1->ipykernel>=5.1.2->pydeck>=0.1.dev5->streamlit->simpletransformers) (0.7.5)\n",
            "Requirement already satisfied: pexpect>4.3 in /usr/local/lib/python3.7/dist-packages (from ipython<8.0,>=7.23.1->ipykernel>=5.1.2->pydeck>=0.1.dev5->streamlit->simpletransformers) (4.8.0)\n",
            "Requirement already satisfied: backcall in /usr/local/lib/python3.7/dist-packages (from ipython<8.0,>=7.23.1->ipykernel>=5.1.2->pydeck>=0.1.dev5->streamlit->simpletransformers) (0.2.0)\n",
            "Requirement already satisfied: decorator in /usr/local/lib/python3.7/dist-packages (from ipython<8.0,>=7.23.1->ipykernel>=5.1.2->pydeck>=0.1.dev5->streamlit->simpletransformers) (4.4.2)\n",
            "Requirement already satisfied: setuptools>=18.5 in /usr/local/lib/python3.7/dist-packages (from ipython<8.0,>=7.23.1->ipykernel>=5.1.2->pydeck>=0.1.dev5->streamlit->simpletransformers) (57.4.0)\n",
            "Requirement already satisfied: pygments in /usr/local/lib/python3.7/dist-packages (from ipython<8.0,>=7.23.1->ipykernel>=5.1.2->pydeck>=0.1.dev5->streamlit->simpletransformers) (2.6.1)\n",
            "Collecting prompt-toolkit!=3.0.0,!=3.0.1,<3.1.0,>=2.0.0\n",
            "  Downloading prompt_toolkit-3.0.20-py3-none-any.whl (370 kB)\n",
            "\u001b[K     |████████████████████████████████| 370 kB 49.8 MB/s \n",
            "\u001b[?25hRequirement already satisfied: widgetsnbextension~=3.5.0 in /usr/local/lib/python3.7/dist-packages (from ipywidgets>=7.0.0->pydeck>=0.1.dev5->streamlit->simpletransformers) (3.5.1)\n",
            "Requirement already satisfied: nbformat>=4.2.0 in /usr/local/lib/python3.7/dist-packages (from ipywidgets>=7.0.0->pydeck>=0.1.dev5->streamlit->simpletransformers) (5.1.3)\n",
            "Requirement already satisfied: jupyterlab-widgets>=1.0.0 in /usr/local/lib/python3.7/dist-packages (from ipywidgets>=7.0.0->pydeck>=0.1.dev5->streamlit->simpletransformers) (1.0.0)\n",
            "Requirement already satisfied: parso<0.9.0,>=0.8.0 in /usr/local/lib/python3.7/dist-packages (from jedi>=0.16->ipython<8.0,>=7.23.1->ipykernel>=5.1.2->pydeck>=0.1.dev5->streamlit->simpletransformers) (0.8.2)\n",
            "Requirement already satisfied: MarkupSafe>=0.23 in /usr/local/lib/python3.7/dist-packages (from jinja2->altair>=3.2.0->streamlit->simpletransformers) (2.0.1)\n",
            "Requirement already satisfied: pyzmq>=13 in /usr/local/lib/python3.7/dist-packages (from jupyter-client<8.0->ipykernel>=5.1.2->pydeck>=0.1.dev5->streamlit->simpletransformers) (22.2.1)\n",
            "Requirement already satisfied: jupyter-core>=4.6.0 in /usr/local/lib/python3.7/dist-packages (from jupyter-client<8.0->ipykernel>=5.1.2->pydeck>=0.1.dev5->streamlit->simpletransformers) (4.7.1)\n",
            "Requirement already satisfied: ptyprocess>=0.5 in /usr/local/lib/python3.7/dist-packages (from pexpect>4.3->ipython<8.0,>=7.23.1->ipykernel>=5.1.2->pydeck>=0.1.dev5->streamlit->simpletransformers) (0.7.0)\n",
            "Requirement already satisfied: wcwidth in /usr/local/lib/python3.7/dist-packages (from prompt-toolkit!=3.0.0,!=3.0.1,<3.1.0,>=2.0.0->ipython<8.0,>=7.23.1->ipykernel>=5.1.2->pydeck>=0.1.dev5->streamlit->simpletransformers) (0.2.5)\n",
            "Requirement already satisfied: notebook>=4.4.1 in /usr/local/lib/python3.7/dist-packages (from widgetsnbextension~=3.5.0->ipywidgets>=7.0.0->pydeck>=0.1.dev5->streamlit->simpletransformers) (5.3.1)\n",
            "Requirement already satisfied: nbconvert in /usr/local/lib/python3.7/dist-packages (from notebook>=4.4.1->widgetsnbextension~=3.5.0->ipywidgets>=7.0.0->pydeck>=0.1.dev5->streamlit->simpletransformers) (5.6.1)\n",
            "Requirement already satisfied: Send2Trash in /usr/local/lib/python3.7/dist-packages (from notebook>=4.4.1->widgetsnbextension~=3.5.0->ipywidgets>=7.0.0->pydeck>=0.1.dev5->streamlit->simpletransformers) (1.8.0)\n",
            "Requirement already satisfied: terminado>=0.8.1 in /usr/local/lib/python3.7/dist-packages (from notebook>=4.4.1->widgetsnbextension~=3.5.0->ipywidgets>=7.0.0->pydeck>=0.1.dev5->streamlit->simpletransformers) (0.11.0)\n",
            "Requirement already satisfied: mistune<2,>=0.8.1 in /usr/local/lib/python3.7/dist-packages (from nbconvert->notebook>=4.4.1->widgetsnbextension~=3.5.0->ipywidgets>=7.0.0->pydeck>=0.1.dev5->streamlit->simpletransformers) (0.8.4)\n",
            "Requirement already satisfied: pandocfilters>=1.4.1 in /usr/local/lib/python3.7/dist-packages (from nbconvert->notebook>=4.4.1->widgetsnbextension~=3.5.0->ipywidgets>=7.0.0->pydeck>=0.1.dev5->streamlit->simpletransformers) (1.4.3)\n",
            "Requirement already satisfied: bleach in /usr/local/lib/python3.7/dist-packages (from nbconvert->notebook>=4.4.1->widgetsnbextension~=3.5.0->ipywidgets>=7.0.0->pydeck>=0.1.dev5->streamlit->simpletransformers) (4.0.0)\n",
            "Requirement already satisfied: testpath in /usr/local/lib/python3.7/dist-packages (from nbconvert->notebook>=4.4.1->widgetsnbextension~=3.5.0->ipywidgets>=7.0.0->pydeck>=0.1.dev5->streamlit->simpletransformers) (0.5.0)\n",
            "Requirement already satisfied: defusedxml in /usr/local/lib/python3.7/dist-packages (from nbconvert->notebook>=4.4.1->widgetsnbextension~=3.5.0->ipywidgets>=7.0.0->pydeck>=0.1.dev5->streamlit->simpletransformers) (0.7.1)\n",
            "Requirement already satisfied: webencodings in /usr/local/lib/python3.7/dist-packages (from bleach->nbconvert->notebook>=4.4.1->widgetsnbextension~=3.5.0->ipywidgets>=7.0.0->pydeck>=0.1.dev5->streamlit->simpletransformers) (0.5.1)\n",
            "Building wheels for collected packages: subprocess32, pathtools, seqeval, blinker\n",
            "  Building wheel for subprocess32 (setup.py) ... \u001b[?25l\u001b[?25hdone\n",
            "  Created wheel for subprocess32: filename=subprocess32-3.5.4-py3-none-any.whl size=6502 sha256=55f98a2acf4cca05113b23f21a2ac8b6089360a1fb43eb8d4c76796b28559803\n",
            "  Stored in directory: /root/.cache/pip/wheels/50/ca/fa/8fca8d246e64f19488d07567547ddec8eb084e8c0d7a59226a\n",
            "  Building wheel for pathtools (setup.py) ... \u001b[?25l\u001b[?25hdone\n",
            "  Created wheel for pathtools: filename=pathtools-0.1.2-py3-none-any.whl size=8807 sha256=f1d4d1fe6ed2a75e34fbd3259b314c32a7d5c03e434f024e025a923493d886e6\n",
            "  Stored in directory: /root/.cache/pip/wheels/3e/31/09/fa59cef12cdcfecc627b3d24273699f390e71828921b2cbba2\n",
            "  Building wheel for seqeval (setup.py) ... \u001b[?25l\u001b[?25hdone\n",
            "  Created wheel for seqeval: filename=seqeval-1.2.2-py3-none-any.whl size=16181 sha256=cbf6eaabaa8ef81606cb40b085986553dd6a355d6ff66316477101025c970776\n",
            "  Stored in directory: /root/.cache/pip/wheels/05/96/ee/7cac4e74f3b19e3158dce26a20a1c86b3533c43ec72a549fd7\n",
            "  Building wheel for blinker (setup.py) ... \u001b[?25l\u001b[?25hdone\n",
            "  Created wheel for blinker: filename=blinker-1.4-py3-none-any.whl size=13478 sha256=743c31a3ed2fe9ec0bf42c5249e4f9bf5fc7c913bbeaae01d59ebcf7d5b82845\n",
            "  Stored in directory: /root/.cache/pip/wheels/22/f5/18/df711b66eb25b21325c132757d4314db9ac5e8dabeaf196eab\n",
            "Successfully built subprocess32 pathtools seqeval blinker\n",
            "Installing collected packages: prompt-toolkit, ipython, ipykernel, smmap, gitdb, xxhash, watchdog, validators, tokenizers, subprocess32, shortuuid, sentry-sdk, sacremoses, pyyaml, pydeck, pathtools, huggingface-hub, GitPython, fsspec, docker-pycreds, configparser, blinker, base58, wandb, transformers, tensorboardx, streamlit, seqeval, sentencepiece, datasets, simpletransformers\n",
            "  Attempting uninstall: prompt-toolkit\n",
            "    Found existing installation: prompt-toolkit 1.0.18\n",
            "    Uninstalling prompt-toolkit-1.0.18:\n",
            "      Successfully uninstalled prompt-toolkit-1.0.18\n",
            "  Attempting uninstall: ipython\n",
            "    Found existing installation: ipython 5.5.0\n",
            "    Uninstalling ipython-5.5.0:\n",
            "      Successfully uninstalled ipython-5.5.0\n",
            "  Attempting uninstall: ipykernel\n",
            "    Found existing installation: ipykernel 4.10.1\n",
            "    Uninstalling ipykernel-4.10.1:\n",
            "      Successfully uninstalled ipykernel-4.10.1\n",
            "  Attempting uninstall: pyyaml\n",
            "    Found existing installation: PyYAML 3.13\n",
            "    Uninstalling PyYAML-3.13:\n",
            "      Successfully uninstalled PyYAML-3.13\n",
            "\u001b[31mERROR: pip's dependency resolver does not currently take into account all the packages that are installed. This behaviour is the source of the following dependency conflicts.\n",
            "jupyter-console 5.2.0 requires prompt-toolkit<2.0.0,>=1.0.0, but you have prompt-toolkit 3.0.20 which is incompatible.\n",
            "google-colab 1.0.0 requires ipykernel~=4.10, but you have ipykernel 6.3.1 which is incompatible.\n",
            "google-colab 1.0.0 requires ipython~=5.5.0, but you have ipython 7.27.0 which is incompatible.\u001b[0m\n",
            "Successfully installed GitPython-3.1.18 base58-2.1.0 blinker-1.4 configparser-5.0.2 datasets-1.11.0 docker-pycreds-0.4.0 fsspec-2021.8.1 gitdb-4.0.7 huggingface-hub-0.0.16 ipykernel-6.3.1 ipython-7.27.0 pathtools-0.1.2 prompt-toolkit-3.0.20 pydeck-0.7.0 pyyaml-5.4.1 sacremoses-0.0.45 sentencepiece-0.1.96 sentry-sdk-1.3.1 seqeval-1.2.2 shortuuid-1.0.1 simpletransformers-0.61.13 smmap-4.0.0 streamlit-0.88.0 subprocess32-3.5.4 tensorboardx-2.4 tokenizers-0.10.3 transformers-4.10.0 validators-0.18.2 wandb-0.12.1 watchdog-2.1.5 xxhash-2.0.2\n"
          ]
        },
        {
          "output_type": "display_data",
          "data": {
            "application/vnd.colab-display-data+json": {
              "pip_warning": {
                "packages": [
                  "IPython",
                  "ipykernel",
                  "prompt_toolkit"
                ]
              }
            }
          },
          "metadata": {}
        }
      ],
      "metadata": {
        "colab": {
          "base_uri": "https://localhost:8080/",
          "height": 1000
        },
        "id": "aQDz00-uh5iU",
        "outputId": "aaa5c1e5-44b3-47c1-e995-e31f0f813207"
      }
    },
    {
      "cell_type": "code",
      "execution_count": 2,
      "source": [
        "import pandas as pd \r\n",
        "import numpy as np\r\n",
        "import os\r\n",
        "from google.colab import files\r\n",
        "import matplotlib.pyplot as plt\r\n",
        "import sklearn\r\n",
        "\r\n",
        "#others\r\n",
        "from sklearn.metrics import f1_score\r\n",
        "from sklearn.model_selection import train_test_split\r\n",
        "from sklearn.metrics import accuracy_score, confusion_matrix\r\n",
        "\r\n",
        "from scipy.special import softmax\r\n",
        "from sklearn.model_selection import train_test_split\r\n",
        "\r\n",
        "#nn\r\n",
        "from simpletransformers.classification import ClassificationModel\r\n",
        "import collections"
      ],
      "outputs": [],
      "metadata": {
        "id": "fbn3JMkCiFiK"
      }
    },
    {
      "cell_type": "code",
      "execution_count": 3,
      "source": [
        "url = 'https://raw.githubusercontent.com/JHDatz/UnicodeProjects/main/Twitter%20Project/Data/clean.csv'\r\n",
        "df = pd.read_csv(url)\r\n",
        "df.dropna(inplace = True)"
      ],
      "outputs": [],
      "metadata": {
        "id": "-a8Pj4A1qCae"
      }
    },
    {
      "cell_type": "code",
      "execution_count": 8,
      "source": [
        "X_train, X_test, y_train, y_test = train_test_split(df['clean'], df['injury_report'], random_state = 91, stratify = df['injury_report'], test_size = 0.2)\r\n",
        "\r\n",
        "train = pd.concat([X_train, y_train], axis = 1)\r\n",
        "test = pd.concat([X_test, y_test], axis = 1)\r\n",
        "y = test['injury_report'].tolist()\r\n",
        "\r\n",
        "train = train[['clean','injury_report']]\r\n",
        "test = test[['clean','injury_report']]\r\n",
        "tst = test['clean'].tolist()\r\n",
        "\r\n",
        "print(collections.Counter(train[\"injury_report\"]))\r\n",
        "print(collections.Counter(test[\"injury_report\"]), end = \"\\n\\n\")\r\n",
        "\r\n",
        "\r\n",
        "train.reset_index().to_csv(\"train 06-09.csv\")\r\n",
        "files.download('train 06-09.csv')\r\n",
        "test.reset_index().to_csv(\"test 06-09.csv\")\r\n",
        "files.download('test 06-09.csv')"
      ],
      "outputs": [],
      "metadata": {
        "id": "2qn-HRGMjuQw"
      }
    },
    {
      "cell_type": "code",
      "execution_count": 13,
      "source": [
        "train"
      ],
      "outputs": [
        {
          "output_type": "execute_result",
          "data": {
            "text/html": [
              "<div>\n",
              "<style scoped>\n",
              "    .dataframe tbody tr th:only-of-type {\n",
              "        vertical-align: middle;\n",
              "    }\n",
              "\n",
              "    .dataframe tbody tr th {\n",
              "        vertical-align: top;\n",
              "    }\n",
              "\n",
              "    .dataframe thead th {\n",
              "        text-align: right;\n",
              "    }\n",
              "</style>\n",
              "<table border=\"1\" class=\"dataframe\">\n",
              "  <thead>\n",
              "    <tr style=\"text-align: right;\">\n",
              "      <th></th>\n",
              "      <th>clean</th>\n",
              "      <th>injury_report</th>\n",
              "    </tr>\n",
              "  </thead>\n",
              "  <tbody>\n",
              "    <tr>\n",
              "      <th>20581</th>\n",
              "      <td>It CRAZY quickly Giannis body recovered injury</td>\n",
              "      <td>1</td>\n",
              "    </tr>\n",
              "    <tr>\n",
              "      <th>12855</th>\n",
              "      <td>Darin Ruf original starting lineup delivered t...</td>\n",
              "      <td>0</td>\n",
              "    </tr>\n",
              "    <tr>\n",
              "      <th>22617</th>\n",
              "      <td>That fun let PacktheJoe httpstcokFFNRoNX</td>\n",
              "      <td>0</td>\n",
              "    </tr>\n",
              "    <tr>\n",
              "      <th>23133</th>\n",
              "      <td>orioles another undrafted free agent signing P...</td>\n",
              "      <td>0</td>\n",
              "    </tr>\n",
              "    <tr>\n",
              "      <th>23880</th>\n",
              "      <td>Hacksaws Mini Poll Lakers decision make guard ...</td>\n",
              "      <td>0</td>\n",
              "    </tr>\n",
              "    <tr>\n",
              "      <th>...</th>\n",
              "      <td>...</td>\n",
              "      <td>...</td>\n",
              "    </tr>\n",
              "    <tr>\n",
              "      <th>1047</th>\n",
              "      <td>Jonathan India scratched lineup right ankle so...</td>\n",
              "      <td>1</td>\n",
              "    </tr>\n",
              "    <tr>\n",
              "      <th>7832</th>\n",
              "      <td>Dont sleep TimAnderson httpstcookMtDaBd</td>\n",
              "      <td>0</td>\n",
              "    </tr>\n",
              "    <tr>\n",
              "      <th>15071</th>\n",
              "      <td>A woman choking Giants game father Nationals p...</td>\n",
              "      <td>0</td>\n",
              "    </tr>\n",
              "    <tr>\n",
              "      <th>11673</th>\n",
              "      <td>crissyfroyd Wait already point Nobrainer</td>\n",
              "      <td>0</td>\n",
              "    </tr>\n",
              "    <tr>\n",
              "      <th>8631</th>\n",
              "      <td>ArashMadani michaelgrange MaxKerman CanBball I...</td>\n",
              "      <td>0</td>\n",
              "    </tr>\n",
              "  </tbody>\n",
              "</table>\n",
              "<p>21484 rows × 2 columns</p>\n",
              "</div>"
            ],
            "text/plain": [
              "                                                   clean  injury_report\n",
              "20581     It CRAZY quickly Giannis body recovered injury              1\n",
              "12855  Darin Ruf original starting lineup delivered t...              0\n",
              "22617           That fun let PacktheJoe httpstcokFFNRoNX              0\n",
              "23133  orioles another undrafted free agent signing P...              0\n",
              "23880  Hacksaws Mini Poll Lakers decision make guard ...              0\n",
              "...                                                  ...            ...\n",
              "1047   Jonathan India scratched lineup right ankle so...              1\n",
              "7832             Dont sleep TimAnderson httpstcookMtDaBd              0\n",
              "15071  A woman choking Giants game father Nationals p...              0\n",
              "11673           crissyfroyd Wait already point Nobrainer              0\n",
              "8631   ArashMadani michaelgrange MaxKerman CanBball I...              0\n",
              "\n",
              "[21484 rows x 2 columns]"
            ]
          },
          "metadata": {},
          "execution_count": 13
        }
      ],
      "metadata": {
        "colab": {
          "base_uri": "https://localhost:8080/",
          "height": 419
        },
        "id": "MFbpQUOuD-VS",
        "outputId": "3d1e1268-96bf-40f5-bb1b-2300678b7170"
      }
    },
    {
      "cell_type": "code",
      "execution_count": null,
      "source": [
        "test"
      ],
      "outputs": [],
      "metadata": {
        "id": "qxAv-kGgD-SF"
      }
    },
    {
      "cell_type": "code",
      "execution_count": 14,
      "source": [
        "def evaluations(model, model_name):\r\n",
        "  result, model_outputs, wrong_predictions = model.eval_model(test, acc=sklearn.metrics.accuracy_score)\r\n",
        "  print(\"Result: \")\r\n",
        "  print(result, end = \"\\n\\n\")\r\n",
        "  \r\n",
        "  df_model_outputs = pd.DataFrame(model_outputs, columns = ['P0','P1'])\r\n",
        "  df_model_outputs.to_csv(model_name +'_model_outputs.csv')\r\n",
        "  files.download(model_name +'_model_outputs.csv')\r\n",
        "  print(model_name + 'outputs downloaded', end = '\\n\\n')\r\n",
        "\r\n",
        "  print(wrong_predictions, end = '\\n\\n')\r\n",
        "  \r\n",
        "  fn = []\r\n",
        "  fp = []\r\n",
        "  for i in range(len(model_outputs)):\r\n",
        "    x = model_outputs[i];\r\n",
        "    if x[1]>x[0] and y[i]==0:\r\n",
        "      fp.append([i,tst[i]])\r\n",
        "    elif x[0]>x[1] and y[i]==1:\r\n",
        "      fn.append([i,tst[i]])\r\n",
        "  print(fp)\r\n",
        "  print(len(fp))\r\n",
        "  print(fn)\r\n",
        "  print(len(fn))\r\n",
        "  \r\n",
        "  df_fp = pd.DataFrame(fp, columns = ['index','fp tweet'])\r\n",
        "  df_fp.to_csv(model_name + '_fp_tweets.csv')\r\n",
        "  files.download(model_name + '_fp_tweets.csv')\r\n",
        "\r\n",
        "  df_fn = pd.DataFrame(fn, columns = ['index','fn tweet'])\r\n",
        "  df_fn.to_csv(model_name + '_fn_tweets.csv')\r\n",
        "  files.download(model_name + '_fn_tweets.csv')\r\n",
        "\r\n",
        "  print(model_name + ' FP and FN tweet dataframes downloaded', end = '\\n\\n')"
      ],
      "outputs": [],
      "metadata": {
        "id": "g64U-7Whk2cO"
      }
    },
    {
      "cell_type": "code",
      "execution_count": null,
      "source": [
        "def model_setup(arch, id):\r\n",
        "\r\n",
        "  #initialise\r\n",
        "  model =  ClassificationModel(arch, id, num_labels=2, use_cuda=True, args={\r\n",
        "        'reprocess_input_data': True,\r\n",
        "        'use_cached_eval_features': False,\r\n",
        "        'overwrite_output_dir': True,\r\n",
        "        'num_train_epochs': 5,\r\n",
        "        'use_early_stopping': True,\r\n",
        "        'early_stopping_delta': 0.01,\r\n",
        "        'early_stopping_metric': \"mcc\",\r\n",
        "        'early_stopping_metric_minimize': False,\r\n",
        "        'early_stopping_patience': 5,\r\n",
        "        'evaluate_during_training_steps': 1000\r\n",
        "      })\r\n",
        "  \r\n",
        "  # print config\r\n",
        "  print(model.config, end = '\\n\\n')\r\n",
        "\r\n",
        "  #train\r\n",
        "  print('Training starts')\r\n",
        "  model.train_model(train)\r\n",
        "  evaluations(model, id + '-5-epochs')\r\n",
        "  \r\n",
        "  return model"
      ],
      "outputs": [],
      "metadata": {
        "id": "XiczenDIpzQO"
      }
    },
    {
      "cell_type": "markdown",
      "source": [
        "### DISTILBERT MODEL"
      ],
      "metadata": {
        "id": "En08-4GjD_Be"
      }
    },
    {
      "cell_type": "code",
      "execution_count": null,
      "source": [
        "bert = model_setup('distilbert', 'distilbert-base-uncased')"
      ],
      "outputs": [],
      "metadata": {
        "id": "BPIiDFyVD-PF"
      }
    },
    {
      "cell_type": "markdown",
      "source": [
        "### XLNET CONFIG"
      ],
      "metadata": {
        "id": "reAEViPRnMTv"
      }
    },
    {
      "cell_type": "code",
      "execution_count": null,
      "source": [
        "bert2 = model_setup('xlnet', 'xlnet-base-cased')"
      ],
      "outputs": [],
      "metadata": {
        "id": "mXb0BKZGse7r"
      }
    },
    {
      "cell_type": "markdown",
      "source": [
        "### ROBERTA"
      ],
      "metadata": {
        "id": "3dJg1cCqrfUn"
      }
    },
    {
      "cell_type": "code",
      "execution_count": null,
      "source": [
        "bert3 = model_setup('roberta', 'roberta-base')"
      ],
      "outputs": [],
      "metadata": {
        "id": "PlG7cCrXsnmk"
      }
    },
    {
      "cell_type": "markdown",
      "source": [
        "### XLM-ROBERTA"
      ],
      "metadata": {
        "id": "bGARA1zSvGzc"
      }
    },
    {
      "cell_type": "code",
      "execution_count": null,
      "source": [
        "bert4 = model_setup('xlmroberta', 'xlm-roberta-base')"
      ],
      "outputs": [],
      "metadata": {
        "id": "8d_ttacMs0jd"
      }
    },
    {
      "cell_type": "markdown",
      "source": [
        "### Electra Model"
      ],
      "metadata": {
        "id": "KXMJnhvTxVWf"
      }
    },
    {
      "cell_type": "code",
      "execution_count": null,
      "source": [
        "bert5 = model_setup('electra', 'google/electra-base-discriminator')"
      ],
      "outputs": [],
      "metadata": {
        "id": "2xePotLPs7Kh"
      }
    },
    {
      "cell_type": "markdown",
      "source": [
        "### distilbert-base-uncased-finetuned-sst-2-english"
      ],
      "metadata": {
        "id": "HuxOOAMIM5Vz"
      }
    },
    {
      "cell_type": "code",
      "execution_count": null,
      "source": [
        "bert6 = model_setup('distilbert', 'distilbert-base-uncased-finetuned-sst-2-english')"
      ],
      "outputs": [],
      "metadata": {
        "id": "cUCFYYC6tCwp"
      }
    },
    {
      "cell_type": "code",
      "execution_count": null,
      "source": [],
      "outputs": [],
      "metadata": {
        "id": "JiVufH-XM8WQ"
      }
    }
  ]
}